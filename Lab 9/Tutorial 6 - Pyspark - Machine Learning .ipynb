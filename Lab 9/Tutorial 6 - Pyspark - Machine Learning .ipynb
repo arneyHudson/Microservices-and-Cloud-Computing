{
 "cells": [
  {
   "cell_type": "markdown",
   "id": "2efa0fce",
   "metadata": {},
   "source": [
    "### Pyspark - Machine Learning\n",
    "\n",
    "Jay Urbain, PhD   \n",
    "3/18/2024\n",
    "\n",
    "\n",
    "PySpark documentation:   \n",
    "https://spark.apache.org/docs/latest/api/python/reference/index.html  \n",
    "\n",
    "Answer the TODO items."
   ]
  },
  {
   "cell_type": "markdown",
   "id": "3474b95e",
   "metadata": {},
   "source": [
    "![](spark-cluster-overview.webp)"
   ]
  },
  {
   "cell_type": "markdown",
   "id": "72615093",
   "metadata": {},
   "source": [
    "# Predicting House Prices with Apache Spark\n",
    "\n",
    "## LINEAR REGRESSION\n",
    "\n",
    "In this lab will apply linear regression to the [California Housing](http://www.dcc.fc.up.pt/~ltorgo/Regression/cal_housing.html) data set to predict house prices using Apache Spark.\n",
    "\n",
    "*Note: This is actually 'small' data and that using Spark in this context is a bit overkill, but transferable to very large datasets.*\n",
    "\n",
    "Submission instructions: Complete all **TODO** items. Submit your copy of this notebook along with feedback on the lab to Canvas."
   ]
  },
  {
   "cell_type": "markdown",
   "id": "c3faf497",
   "metadata": {},
   "source": [
    "## 1. The Data Set\n",
    "\n",
    "The California Housing data set appeared in a 1997 paper titled *Sparse Spatial Autoregressions*, written by Pace, R. Kelley and Ronald Barry and published in the Statistics and Probability Letters journal. The researchers built this data set by using the 1990 California census data. Wouldn't you like to buy a house in California for 1990's prices?\n",
    "\n",
    "The data contains one row per census block group. A block group is the smallest geographical unit for which the U.S. Census Bureau publishes sample data (a block group typically has a population of 600 to 3,000 people). In this sample a block group on average includes 1425.5 individuals living in a geographically compact area.\n",
    "\n",
    "This spatial data contain 20,640 observations on housing prices with 9 economic variables:\n",
    "\n",
    "<p style=\"text-align: justify;\"></p>\n",
    "<pre><strong>Longitude: </strong>refers to the angular distance of a geographic place north or south of the earth’s equator for each block group\n",
    "<strong>Latitude: </strong>refers to the angular distance of a geographic place east or west of the earth’s equator for each block group\n",
    "<strong>Housing Median Age: </strong>is the median age of the people that belong to a block group. Note that the median is the value that lies at the midpoint of a frequency distribution of observed values\n",
    "<strong>Total Rooms: </strong>is the total number of rooms in the houses per block group\n",
    "<strong>Total Bedrooms: </strong>is the total number of bedrooms in the houses per block group\n",
    "<strong>Population: </strong>is the number of inhabitants of a block group\n",
    "<strong>Households: </strong>refers to units of houses and their occupants per block group\n",
    "<strong>Median Income: </strong>is used to register the median income of people that belong to a block group\n",
    "<strong>Median House Value: </strong>is the dependent variable and refers to the median house value per block group\n",
    "</pre>\n",
    "\n",
    "The Median house value is the dependent variable and will be assigned the role of the target variable that we are trying to predict in our ML model.\n"
   ]
  },
  {
   "cell_type": "markdown",
   "id": "2a351735",
   "metadata": {},
   "source": [
    "Make sure Spark can find Java. Set JAVA_HOME to Java in *your* environment path."
   ]
  },
  {
   "cell_type": "code",
   "execution_count": 1,
   "id": "13b8e843",
   "metadata": {},
   "outputs": [],
   "source": [
    "# option 1\n",
    "\n",
    "import os\n",
    "\n",
    "#JAVA_HOME = \"/home/arneyh/anaconda3/envs/pyspark\"\n",
    "JAVA_HOME = 'C:/Program Files/Java/jdk-21'\n",
    "os.environ[\"JAVA_HOME\"] = JAVA_HOME\n",
    "\n",
    "# option 2\n",
    "\n",
    "import sys\n",
    "sys.path.append(\"/Users/jayurbain/opt/miniconda3/envs/pyspark\") "
   ]
  },
  {
   "cell_type": "markdown",
   "id": "680907ef",
   "metadata": {},
   "source": [
    "Imports"
   ]
  },
  {
   "cell_type": "code",
   "execution_count": 2,
   "id": "0a365413",
   "metadata": {},
   "outputs": [],
   "source": [
    "import os\n",
    "import pandas as pd\n",
    "import numpy as np\n",
    "\n",
    "from pyspark import SparkConf, SparkContext\n",
    "from pyspark.sql import SparkSession, SQLContext\n",
    "\n",
    "from pyspark.sql.types import *\n",
    "import pyspark.sql.functions as F\n",
    "from pyspark.sql.functions import udf, col\n",
    "\n",
    "from pyspark.ml.regression import LinearRegression\n",
    "from pyspark.mllib.evaluation import RegressionMetrics\n",
    "\n",
    "from pyspark.ml.tuning import ParamGridBuilder, CrossValidator, CrossValidatorModel\n",
    "from pyspark.ml.feature import VectorAssembler, StandardScaler\n",
    "from pyspark.ml.evaluation import RegressionEvaluator"
   ]
  },
  {
   "cell_type": "code",
   "execution_count": 3,
   "id": "3a385e4a",
   "metadata": {},
   "outputs": [],
   "source": [
    "import seaborn as sns\n",
    "import matplotlib.pyplot as plt"
   ]
  },
  {
   "cell_type": "markdown",
   "id": "caddd01d",
   "metadata": {},
   "source": [
    "Set up visualization "
   ]
  },
  {
   "cell_type": "code",
   "execution_count": 4,
   "id": "7e8a597d",
   "metadata": {},
   "outputs": [],
   "source": [
    "# Visualization\n",
    "from IPython.core.interactiveshell import InteractiveShell\n",
    "InteractiveShell.ast_node_interactivity = \"all\"\n",
    "\n",
    "pd.set_option('display.max_columns', 200)\n",
    "pd.set_option('display.max_colwidth', 400)\n",
    "\n",
    "from matplotlib import rcParams\n",
    "sns.set(context='notebook', style='whitegrid', rc={'figure.figsize': (18,4)})\n",
    "rcParams['figure.figsize'] = 18,4\n",
    "\n",
    "%matplotlib inline\n",
    "%config InlineBackend.figure_format = 'retina'"
   ]
  },
  {
   "cell_type": "markdown",
   "id": "c819e324",
   "metadata": {},
   "source": [
    "Set a random seed for notebook reproducability"
   ]
  },
  {
   "cell_type": "code",
   "execution_count": 5,
   "id": "7b0fcf7e",
   "metadata": {},
   "outputs": [],
   "source": [
    "rnd_seed=23\n",
    "np.random.seed=rnd_seed\n",
    "np.random.set_state=rnd_seed"
   ]
  },
  {
   "cell_type": "markdown",
   "id": "f118ca22",
   "metadata": {},
   "source": [
    "## 2. Create the Spark Session\n",
    "\n",
    "Sets the Spark master URL to connect to, such as “local” to run locally, “local[2]” to run locally with 2 cores."
   ]
  },
  {
   "cell_type": "code",
   "execution_count": 6,
   "id": "4ece01d0",
   "metadata": {},
   "outputs": [],
   "source": [
    "spark = SparkSession.builder.master(\"local[2]\").appName(\"Linear-Regression-California-Housing\").getOrCreate()"
   ]
  },
  {
   "cell_type": "code",
   "execution_count": 7,
   "id": "3ca959e5",
   "metadata": {},
   "outputs": [
    {
     "data": {
      "text/html": [
       "\n",
       "        <div>\n",
       "            <p><b>SparkContext</b></p>\n",
       "\n",
       "            <p><a href=\"http://AAD-PF4EEASN:4041\">Spark UI</a></p>\n",
       "\n",
       "            <dl>\n",
       "              <dt>Version</dt>\n",
       "                <dd><code>v3.5.3</code></dd>\n",
       "              <dt>Master</dt>\n",
       "                <dd><code>local[2]</code></dd>\n",
       "              <dt>AppName</dt>\n",
       "                <dd><code>Linear-Regression-California-Housing</code></dd>\n",
       "            </dl>\n",
       "        </div>\n",
       "        "
      ],
      "text/plain": [
       "<SparkContext master=local[2] appName=Linear-Regression-California-Housing>"
      ]
     },
     "execution_count": 7,
     "metadata": {},
     "output_type": "execute_result"
    }
   ],
   "source": [
    "sc = spark.sparkContext\n",
    "sc"
   ]
  },
  {
   "cell_type": "markdown",
   "id": "0af25977",
   "metadata": {},
   "source": [
    "SQLContext is a class in Apache Spark that provides a programming interface to work with structured and semi-structured data using SQL \n",
    "\n",
    "It's based on dataframes."
   ]
  },
  {
   "cell_type": "code",
   "execution_count": 8,
   "id": "42b0f83b",
   "metadata": {},
   "outputs": [
    {
     "name": "stderr",
     "output_type": "stream",
     "text": [
      "C:\\pyspark\\spark-3.5.3\\python\\pyspark\\sql\\context.py:115: FutureWarning: Deprecated in 3.0.0. Use SparkSession.builder.getOrCreate() instead.\n",
      "  FutureWarning,\n"
     ]
    },
    {
     "data": {
      "text/plain": [
       "<pyspark.sql.context.SQLContext at 0x2a1defbc948>"
      ]
     },
     "execution_count": 8,
     "metadata": {},
     "output_type": "execute_result"
    }
   ],
   "source": [
    "sqlContext = SQLContext(spark.sparkContext)\n",
    "sqlContext"
   ]
  },
  {
   "cell_type": "markdown",
   "id": "880de2f5",
   "metadata": {},
   "source": [
    "## 3. Load The Data From a File Into a Dataframe\n",
    "\n",
    "Download the California housung dataset:\n",
    "\n",
    "https://www.dcc.fc.up.pt/~ltorgo/Regression/cal_housing.html\n",
    "\n",
    "Set the path to the housing data."
   ]
  },
  {
   "cell_type": "code",
   "execution_count": 9,
   "id": "5d835ccd",
   "metadata": {},
   "outputs": [],
   "source": [
    "HOUSING_DATA = 'housing.csv'"
   ]
  },
  {
   "cell_type": "markdown",
   "id": "7ab68cf7",
   "metadata": {},
   "source": [
    "Specifying the schema when loading data into a DataFrame will give better performance than using schema inference.\n",
    "\n",
    "Note: this is how I handled medical data."
   ]
  },
  {
   "cell_type": "code",
   "execution_count": 10,
   "id": "3f8aaea7",
   "metadata": {},
   "outputs": [],
   "source": [
    "# define the schema, corresponding to a line in the csv data file.\n",
    "schema = StructType([\n",
    "    StructField(\"long\", FloatType(), nullable=True),\n",
    "    StructField(\"lat\", FloatType(), nullable=True),\n",
    "    StructField(\"medage\", FloatType(), nullable=True),\n",
    "    StructField(\"totrooms\", FloatType(), nullable=True),\n",
    "    StructField(\"totbdrms\", FloatType(), nullable=True),\n",
    "    StructField(\"pop\", FloatType(), nullable=True),\n",
    "    StructField(\"houshlds\", FloatType(), nullable=True),\n",
    "    StructField(\"medinc\", FloatType(), nullable=True),\n",
    "    StructField(\"medhv\", FloatType(), nullable=True)]\n",
    ")"
   ]
  },
  {
   "cell_type": "markdown",
   "id": "936131a6",
   "metadata": {},
   "source": [
    "Load the data\n",
    "\n",
    "Spark cache is a mechanism that saves a DataFrame (/RDD/Dataset) in the Executors memory or disk. This enables the DataFrame to be calculated only once and reused for subsequent transformations and actions. "
   ]
  },
  {
   "cell_type": "code",
   "execution_count": 11,
   "id": "08c3926d",
   "metadata": {},
   "outputs": [],
   "source": [
    "housing_df = spark.read.csv(path=HOUSING_DATA, schema=schema).cache()"
   ]
  },
  {
   "cell_type": "markdown",
   "id": "520d0d2f",
   "metadata": {},
   "source": [
    "Inspect the first 5 rows\n",
    "\n",
    "take() and show() are different. show() prints results, take() returns a list of rows (in PySpark) and can be used to create a new dataframe. They are both actions."
   ]
  },
  {
   "cell_type": "code",
   "execution_count": 12,
   "id": "48d47f8f",
   "metadata": {},
   "outputs": [
    {
     "data": {
      "text/plain": [
       "[Row(long=None, lat=None, medage=None, totrooms=None, totbdrms=None, pop=None, houshlds=None, medinc=None, medhv=None),\n",
       " Row(long=-122.2300033569336, lat=37.880001068115234, medage=41.0, totrooms=880.0, totbdrms=129.0, pop=322.0, houshlds=126.0, medinc=8.325200080871582, medhv=452600.0),\n",
       " Row(long=-122.22000122070312, lat=37.86000061035156, medage=21.0, totrooms=7099.0, totbdrms=1106.0, pop=2401.0, houshlds=1138.0, medinc=8.301400184631348, medhv=358500.0),\n",
       " Row(long=-122.23999786376953, lat=37.849998474121094, medage=52.0, totrooms=1467.0, totbdrms=190.0, pop=496.0, houshlds=177.0, medinc=7.257400035858154, medhv=352100.0),\n",
       " Row(long=-122.25, lat=37.849998474121094, medage=52.0, totrooms=1274.0, totbdrms=235.0, pop=558.0, houshlds=219.0, medinc=5.643099784851074, medhv=341300.0)]"
      ]
     },
     "execution_count": 12,
     "metadata": {},
     "output_type": "execute_result"
    }
   ],
   "source": [
    "# Using take\n",
    "\n",
    "housing_df.take(5)"
   ]
  },
  {
   "cell_type": "code",
   "execution_count": 13,
   "id": "b58d2bb7",
   "metadata": {},
   "outputs": [
    {
     "name": "stdout",
     "output_type": "stream",
     "text": [
      "+-------+-----+------+--------+--------+------+--------+------+--------+\n",
      "|   long|  lat|medage|totrooms|totbdrms|   pop|houshlds|medinc|   medhv|\n",
      "+-------+-----+------+--------+--------+------+--------+------+--------+\n",
      "|   NULL| NULL|  NULL|    NULL|    NULL|  NULL|    NULL|  NULL|    NULL|\n",
      "|-122.23|37.88|  41.0|   880.0|   129.0| 322.0|   126.0|8.3252|452600.0|\n",
      "|-122.22|37.86|  21.0|  7099.0|  1106.0|2401.0|  1138.0|8.3014|358500.0|\n",
      "|-122.24|37.85|  52.0|  1467.0|   190.0| 496.0|   177.0|7.2574|352100.0|\n",
      "|-122.25|37.85|  52.0|  1274.0|   235.0| 558.0|   219.0|5.6431|341300.0|\n",
      "+-------+-----+------+--------+--------+------+--------+------+--------+\n",
      "only showing top 5 rows\n",
      "\n"
     ]
    }
   ],
   "source": [
    "# Using show\n",
    "\n",
    "housing_df.show(5)"
   ]
  },
  {
   "cell_type": "markdown",
   "id": "81ff3857",
   "metadata": {},
   "source": [
    "**TODO**: Show the dataframe columns"
   ]
  },
  {
   "cell_type": "code",
   "execution_count": 14,
   "id": "f2fc026c",
   "metadata": {},
   "outputs": [
    {
     "data": {
      "text/plain": [
       "['long',\n",
       " 'lat',\n",
       " 'medage',\n",
       " 'totrooms',\n",
       " 'totbdrms',\n",
       " 'pop',\n",
       " 'houshlds',\n",
       " 'medinc',\n",
       " 'medhv']"
      ]
     },
     "execution_count": 14,
     "metadata": {},
     "output_type": "execute_result"
    }
   ],
   "source": [
    "#### TODO: show the dataframe columns\n",
    "housing_df.columns"
   ]
  },
  {
   "cell_type": "markdown",
   "id": "446da908",
   "metadata": {},
   "source": [
    "**TODO**: Show the schema of the dataframe"
   ]
  },
  {
   "cell_type": "code",
   "execution_count": 15,
   "id": "4920e62c",
   "metadata": {},
   "outputs": [
    {
     "name": "stdout",
     "output_type": "stream",
     "text": [
      "root\n",
      " |-- long: float (nullable = true)\n",
      " |-- lat: float (nullable = true)\n",
      " |-- medage: float (nullable = true)\n",
      " |-- totrooms: float (nullable = true)\n",
      " |-- totbdrms: float (nullable = true)\n",
      " |-- pop: float (nullable = true)\n",
      " |-- houshlds: float (nullable = true)\n",
      " |-- medinc: float (nullable = true)\n",
      " |-- medhv: float (nullable = true)\n",
      "\n"
     ]
    }
   ],
   "source": [
    "#### TODO show the schema of the dataframe\n",
    "housing_df.printSchema()"
   ]
  },
  {
   "cell_type": "markdown",
   "id": "d9575719",
   "metadata": {},
   "source": [
    "## 4. Data Exploration"
   ]
  },
  {
   "cell_type": "code",
   "execution_count": 16,
   "id": "3ec2de2b",
   "metadata": {},
   "outputs": [
    {
     "name": "stdout",
     "output_type": "stream",
     "text": [
      "+------+--------+\n",
      "|   pop|totbdrms|\n",
      "+------+--------+\n",
      "|  NULL|    NULL|\n",
      "| 322.0|   129.0|\n",
      "|2401.0|  1106.0|\n",
      "| 496.0|   190.0|\n",
      "| 558.0|   235.0|\n",
      "| 565.0|   280.0|\n",
      "| 413.0|   213.0|\n",
      "|1094.0|   489.0|\n",
      "|1157.0|   687.0|\n",
      "|1206.0|   665.0|\n",
      "+------+--------+\n",
      "only showing top 10 rows\n",
      "\n"
     ]
    }
   ],
   "source": [
    "# run a sample query using dataframe select\n",
    "\n",
    "housing_df.select('pop','totbdrms').show(10)"
   ]
  },
  {
   "cell_type": "markdown",
   "id": "e235ce04",
   "metadata": {},
   "source": [
    "In order to use SQL, first, create a temporary table on the DataFrame using `createOrReplaceTempView()` function. \n",
    "\n",
    "Once created, this table can be accessed throughout the SparkSession using `sql()` and it will be dropped \n",
    "along with your SparkContext upon termination.\n",
    "\n",
    "Use `sql()` method of the `SparkSession` object to run the query and this method returns a new DataFrame."
   ]
  },
  {
   "cell_type": "code",
   "execution_count": 17,
   "id": "42a8eef1",
   "metadata": {},
   "outputs": [
    {
     "name": "stdout",
     "output_type": "stream",
     "text": [
      "root\n",
      " |-- pop: float (nullable = true)\n",
      " |-- totbdrms: float (nullable = true)\n",
      "\n"
     ]
    }
   ],
   "source": [
    "housing_df.createOrReplaceTempView(\"HOUSING\")\n",
    "\n",
    "housing_df_sql = spark.sql(\"SELECT pop, totbdrms from HOUSING\")\n",
    "housing_df_sql.printSchema()"
   ]
  },
  {
   "cell_type": "markdown",
   "id": "96645402",
   "metadata": {},
   "source": [
    "### 4.1 Distribution of the median age of the people living in the area:\n",
    "\n",
    "**TODO**: Write a query to generate a histogram of the median age for people living in the area.\n",
    "\n",
    "The query results should look something like the following.\n",
    "\n",
    "```\n",
    "result_df.show(10)\n",
    "\n",
    "+------+--------+\n",
    "|medage|count(1)|\n",
    "+------+--------+\n",
    "|  52.0|    1273|\n",
    "|  36.0|     862|\n",
    "|  35.0|     824|\n",
    "|  16.0|     771|\n",
    "|  17.0|     698|\n",
    "|  34.0|     689|\n",
    "|  26.0|     619|\n",
    "|  33.0|     615|\n",
    "|  18.0|     570|\n",
    "|  25.0|     566|\n",
    "+------+--------+\n",
    "only showing top 10 rows\n",
    "```"
   ]
  },
  {
   "cell_type": "code",
   "execution_count": 18,
   "id": "987795a4",
   "metadata": {},
   "outputs": [],
   "source": [
    "##### TODO group by housing median age and see the distribution\n",
    "# your work here:\n",
    "result_df = housing_df.groupBy(\"medage\").count().sort(\"count\", ascending=False)"
   ]
  },
  {
   "cell_type": "code",
   "execution_count": null,
   "id": "72876b07",
   "metadata": {},
   "outputs": [],
   "source": []
  },
  {
   "cell_type": "code",
   "execution_count": 19,
   "id": "6170aeb2",
   "metadata": {},
   "outputs": [
    {
     "name": "stdout",
     "output_type": "stream",
     "text": [
      "+------+-----+\n",
      "|medage|count|\n",
      "+------+-----+\n",
      "|  52.0| 1273|\n",
      "|  36.0|  862|\n",
      "|  35.0|  824|\n",
      "|  16.0|  771|\n",
      "|  17.0|  698|\n",
      "|  34.0|  689|\n",
      "|  26.0|  619|\n",
      "|  33.0|  615|\n",
      "|  18.0|  570|\n",
      "|  25.0|  566|\n",
      "+------+-----+\n",
      "only showing top 10 rows\n",
      "\n"
     ]
    }
   ],
   "source": [
    "result_df.show(10)"
   ]
  },
  {
   "cell_type": "markdown",
   "id": "42e0252f",
   "metadata": {},
   "source": [
    "Plot the result"
   ]
  },
  {
   "cell_type": "code",
   "execution_count": 20,
   "id": "65559106",
   "metadata": {},
   "outputs": [
    {
     "data": {
      "text/plain": [
       "<AxesSubplot:xlabel='medage'>"
      ]
     },
     "execution_count": 20,
     "metadata": {},
     "output_type": "execute_result"
    },
    {
     "data": {
      "image/png": "[encoded data removed]",
      "text/plain": [
       "<Figure size 1400x600 with 1 Axes>"
      ]
     },
     "metadata": {
      "image/png": {
       "height": 546,
       "width": 1152
      }
     },
     "output_type": "display_data"
    }
   ],
   "source": [
    "result_df.toPandas().plot.bar(x='medage', y='count', figsize=(14, 6))\n"
   ]
  },
  {
   "cell_type": "code",
   "execution_count": 21,
   "id": "e85c3e24",
   "metadata": {},
   "outputs": [
    {
     "data": {
      "text/plain": [
       "<AxesSubplot:xlabel='medage'>"
      ]
     },
     "execution_count": 21,
     "metadata": {},
     "output_type": "execute_result"
    },
    {
     "data": {
      "image/png": "[encoded data removed]",
      "text/plain": [
       "<Figure size 1400x600 with 1 Axes>"
      ]
     },
     "metadata": {
      "image/png": {
       "height": 546,
       "width": 1152
      }
     },
     "output_type": "display_data"
    }
   ],
   "source": [
    "result_df = housing_df.groupBy(\"medage\").count()\n",
    "result_df.toPandas().plot.bar(x='medage', y='count', figsize=(14, 6))"
   ]
  },
  {
   "cell_type": "markdown",
   "id": "30e62ed1",
   "metadata": {},
   "source": [
    "### 4.2 Summary Statistics\n",
    "\n",
    "In Spark you can use `df.describe()` or `df.summary()` to review statistical information for numerical columns.\n",
    "\n",
    "The difference is that `df.summary()` returns the same information as `df.describe()` plus quartile information (25%, 50% and 75%)."
   ]
  },
  {
   "cell_type": "code",
   "execution_count": 22,
   "id": "169fb434",
   "metadata": {},
   "outputs": [
    {
     "name": "stdout",
     "output_type": "stream",
     "text": [
      "+-------+-------+---------+--------+---------+--------+-------+-----------+\n",
      "|summary| medage| totrooms|totbdrms|      pop|houshlds| medinc|      medhv|\n",
      "+-------+-------+---------+--------+---------+--------+-------+-----------+\n",
      "|  count|20640.0|  20640.0| 20433.0|  20640.0| 20640.0|20640.0|    20640.0|\n",
      "|   mean|28.6395|2635.7631|537.8706|1425.4767|499.5397| 3.8707|206855.8169|\n",
      "| stddev|12.5856|2181.6153|421.3851|1132.4621|382.3298| 1.8998|115395.6159|\n",
      "|    min|    1.0|      2.0|     1.0|      3.0|     1.0| 0.4999|    14999.0|\n",
      "|    max|   52.0|  39320.0|  6445.0|  35682.0|  6082.0|15.0001|   500001.0|\n",
      "+-------+-------+---------+--------+---------+--------+-------+-----------+\n",
      "\n"
     ]
    }
   ],
   "source": [
    "(housing_df.describe().select(\n",
    "                    \"summary\",\n",
    "                    F.round(\"medage\", 4).alias(\"medage\"),\n",
    "                    F.round(\"totrooms\", 4).alias(\"totrooms\"),\n",
    "                    F.round(\"totbdrms\", 4).alias(\"totbdrms\"),\n",
    "                    F.round(\"pop\", 4).alias(\"pop\"),\n",
    "                    F.round(\"houshlds\", 4).alias(\"houshlds\"),\n",
    "                    F.round(\"medinc\", 4).alias(\"medinc\"),\n",
    "                    F.round(\"medhv\", 4).alias(\"medhv\"))\n",
    "                    .show())"
   ]
  },
  {
   "cell_type": "code",
   "execution_count": 23,
   "id": "3a9803b7",
   "metadata": {},
   "outputs": [
    {
     "name": "stdout",
     "output_type": "stream",
     "text": [
      "+-------+-------+---------+--------+---------+--------+-------+-----------+\n",
      "|summary| medage| totrooms|totbdrms|      pop|houshlds| medinc|      medhv|\n",
      "+-------+-------+---------+--------+---------+--------+-------+-----------+\n",
      "|  count|20640.0|  20640.0| 20433.0|  20640.0| 20640.0|20640.0|    20640.0|\n",
      "|   mean|28.6395|2635.7631|537.8706|1425.4767|499.5397| 3.8707|206855.8169|\n",
      "| stddev|12.5856|2181.6153|421.3851|1132.4621|382.3298| 1.8998|115395.6159|\n",
      "|    min|    1.0|      2.0|     1.0|      3.0|     1.0| 0.4999|    14999.0|\n",
      "|    25%|   18.0|   1447.0|   296.0|    787.0|   280.0| 2.5625|   119600.0|\n",
      "|    50%|   29.0|   2127.0|   435.0|   1166.0|   409.0| 3.5347|   179700.0|\n",
      "|    75%|   37.0|   3146.0|   647.0|   1724.0|   605.0| 4.7426|   264700.0|\n",
      "|    max|   52.0|  39320.0|  6445.0|  35682.0|  6082.0|15.0001|   500001.0|\n",
      "+-------+-------+---------+--------+---------+--------+-------+-----------+\n",
      "\n"
     ]
    }
   ],
   "source": [
    "(housing_df.summary().select(\n",
    "                    \"summary\",\n",
    "                    F.round(\"medage\", 4).alias(\"medage\"),\n",
    "                    F.round(\"totrooms\", 4).alias(\"totrooms\"),\n",
    "                    F.round(\"totbdrms\", 4).alias(\"totbdrms\"),\n",
    "                    F.round(\"pop\", 4).alias(\"pop\"),\n",
    "                    F.round(\"houshlds\", 4).alias(\"houshlds\"),\n",
    "                    F.round(\"medinc\", 4).alias(\"medinc\"),\n",
    "                    F.round(\"medhv\", 4).alias(\"medhv\"))\n",
    "                    .show())"
   ]
  },
  {
   "cell_type": "markdown",
   "id": "d3e20329",
   "metadata": {},
   "source": [
    "Notice that multiple attributes have a wide range of values. We will need to normalize the dataset."
   ]
  },
  {
   "cell_type": "markdown",
   "id": "5c814121",
   "metadata": {},
   "source": [
    "## 5. Data Preprocessing\n",
    "\n",
    "+ We shouldn't need to care about missing values; all zero values have been excluded from the data set.\n",
    "+ We should definitely standardize our data, as we have seen that the range of minimum and maximum values is quite big.\n",
    "+ There are possibly some additional attributes that we could add, such as a feature that registers the number of bedrooms per room or the rooms per household.\n",
    "+ Our dependent variable is also quite large. To make our life easier, we'll have to adjust the values.\n"
   ]
  },
  {
   "cell_type": "markdown",
   "id": "06441d48",
   "metadata": {},
   "source": [
    "### 5.1 Preprocessing The Target Values\n",
    "\n",
    "`medianHouseValue` is our dependent variable (target). To make things a little easier we will express the house values in units of 100,000. That means that a target such as `452600.000000` should become `4.526`:"
   ]
  },
  {
   "cell_type": "code",
   "execution_count": 24,
   "id": "02b70e2e",
   "metadata": {},
   "outputs": [],
   "source": [
    "# Adjust the values of median house value\n",
    "housing_df = housing_df.withColumn(\"medhv\", col(\"medhv\")/100000)"
   ]
  },
  {
   "cell_type": "code",
   "execution_count": 25,
   "id": "79b04172",
   "metadata": {},
   "outputs": [
    {
     "name": "stdout",
     "output_type": "stream",
     "text": [
      "+-------+-----+------+--------+--------+-----+--------+------+-----+\n",
      "|   long|  lat|medage|totrooms|totbdrms|  pop|houshlds|medinc|medhv|\n",
      "+-------+-----+------+--------+--------+-----+--------+------+-----+\n",
      "|   NULL| NULL|  NULL|    NULL|    NULL| NULL|    NULL|  NULL| NULL|\n",
      "|-122.23|37.88|  41.0|   880.0|   129.0|322.0|   126.0|8.3252|4.526|\n",
      "+-------+-----+------+--------+--------+-----+--------+------+-----+\n",
      "only showing top 2 rows\n",
      "\n"
     ]
    }
   ],
   "source": [
    "# Show the first 2 lines of `df`\n",
    "housing_df.show(2)"
   ]
  },
  {
   "cell_type": "markdown",
   "id": "bdc2d959",
   "metadata": {},
   "source": [
    "We can  see that the values have been adjusted correctly when we look at the result of the `show()` method:"
   ]
  },
  {
   "cell_type": "markdown",
   "id": "d155fa02",
   "metadata": {},
   "source": [
    "## 6. Feature Engineering\n",
    "\n",
    "Now that we have adjusted the values for `medhv`, we will add the following columns to the data set:\n",
    "\n",
    "+ Rooms per household which refers to the number of rooms in households per block group. `totrooms/houshlds`\n",
    "+ Population per household, which basically gives us an indication of how many people live in households per block group. `pop/houshlds`\n",
    "+ Bedrooms per total rooms which will give us an idea about how many rooms are bedrooms per block group. `totbdrms/totrooms`\n",
    "\n",
    "We can add columns to a DataFrame based on another existing column value using `df.withColumn`\n",
    "\n",
    "https://spark.apache.org/docs/3.1.3/api/python/reference/api/pyspark.sql.DataFrame.withColumn.html\n",
    "\n",
    "\n",
    "The results should look as follows:\n",
    "\n",
    "```\n",
    "+--------+--------+----+\n",
    "|rmsperhh|rmsperhh|  as|\n",
    "+--------+--------+----+\n",
    "|    6.98|    2.56|0.15|\n",
    "|    6.24|    2.11|0.16|\n",
    "|    8.29|     2.8|0.13|\n",
    "|    5.82|    2.55|0.18|\n",
    "|    6.28|    2.18|0.17|\n",
    "+--------+--------+----+\n",
    "only showing top 5 rows\n",
    "```"
   ]
  },
  {
   "cell_type": "code",
   "execution_count": 26,
   "id": "87067383",
   "metadata": {},
   "outputs": [
    {
     "data": {
      "text/plain": [
       "['long',\n",
       " 'lat',\n",
       " 'medage',\n",
       " 'totrooms',\n",
       " 'totbdrms',\n",
       " 'pop',\n",
       " 'houshlds',\n",
       " 'medinc',\n",
       " 'medhv']"
      ]
     },
     "execution_count": 26,
     "metadata": {},
     "output_type": "execute_result"
    }
   ],
   "source": [
    "housing_df.columns"
   ]
  },
  {
   "cell_type": "code",
   "execution_count": 27,
   "id": "ec2992aa",
   "metadata": {},
   "outputs": [],
   "source": [
    "# Add the new columns to `df`\n",
    "housing_df = (housing_df.withColumn(\"rmsperhh\", F.round(col(\"totrooms\")/col(\"houshlds\"), 2))\n",
    "                       .withColumn(\"popperhh\", F.round(col(\"pop\")/col(\"houshlds\"), 2))\n",
    "                       .withColumn(\"bdrmsperrm\", F.round(col(\"totbdrms\")/col(\"totrooms\"), 2)))"
   ]
  },
  {
   "cell_type": "code",
   "execution_count": 28,
   "id": "317a7864",
   "metadata": {},
   "outputs": [
    {
     "name": "stdout",
     "output_type": "stream",
     "text": [
      "+-------+-----+------+--------+--------+------+--------+------+-----+--------+--------+----------+\n",
      "|   long|  lat|medage|totrooms|totbdrms|   pop|houshlds|medinc|medhv|rmsperhh|popperhh|bdrmsperrm|\n",
      "+-------+-----+------+--------+--------+------+--------+------+-----+--------+--------+----------+\n",
      "|   NULL| NULL|  NULL|    NULL|    NULL|  NULL|    NULL|  NULL| NULL|    NULL|    NULL|      NULL|\n",
      "|-122.23|37.88|  41.0|   880.0|   129.0| 322.0|   126.0|8.3252|4.526|    6.98|    2.56|      0.15|\n",
      "|-122.22|37.86|  21.0|  7099.0|  1106.0|2401.0|  1138.0|8.3014|3.585|    6.24|    2.11|      0.16|\n",
      "|-122.24|37.85|  52.0|  1467.0|   190.0| 496.0|   177.0|7.2574|3.521|    8.29|     2.8|      0.13|\n",
      "|-122.25|37.85|  52.0|  1274.0|   235.0| 558.0|   219.0|5.6431|3.413|    5.82|    2.55|      0.18|\n",
      "+-------+-----+------+--------+--------+------+--------+------+-----+--------+--------+----------+\n",
      "only showing top 5 rows\n",
      "\n"
     ]
    }
   ],
   "source": [
    "# Inspect the result\n",
    "housing_df.show(5)"
   ]
  },
  {
   "cell_type": "markdown",
   "id": "924f98c9",
   "metadata": {},
   "source": [
    "Looking at the first row, there are about 6.98 rooms per household, the households in the block group consist of about 2.6 people and the amount of bedrooms is quite low with 0.15:"
   ]
  },
  {
   "cell_type": "markdown",
   "id": "c72a404a",
   "metadata": {},
   "source": [
    "Since we don't want to  standardize our target values, we need to isolate the target value in our data set. \n",
    "\n",
    "Note: this is also the time to leave out variables that we might not want to consider in our analysis. Let's leave out variables such as longitude, latitude, housingMedianAge and totalRooms.\n",
    "\n",
    "In this case, we will use the `select()` method and pass the column names in an order that is more appropriate. In this case, the target variable medianHouseValue is put first, so that it won't be affected by the standardization.\n",
    "\n",
    "**TODO**: Select and order the columns in the dataframe as follows:\n",
    "\n",
    "```\n",
    "\"medhv\", \n",
    "\"totbdrms\", \n",
    "\"pop\", \n",
    "\"houshlds\", \n",
    "\"medinc\", \n",
    "\"rmsperhh\", \n",
    "\"popperhh\", \n",
    "\"bdrmsperrm\"\n",
    "```"
   ]
  },
  {
   "cell_type": "code",
   "execution_count": 29,
   "id": "533035bc",
   "metadata": {},
   "outputs": [
    {
     "name": "stdout",
     "output_type": "stream",
     "text": [
      "+-----+--------+------+--------+------+--------+--------+----------+\n",
      "|medhv|totbdrms|   pop|houshlds|medinc|rmsperhh|popperhh|bdrmsperrm|\n",
      "+-----+--------+------+--------+------+--------+--------+----------+\n",
      "| NULL|    NULL|  NULL|    NULL|  NULL|    NULL|    NULL|      NULL|\n",
      "|4.526|   129.0| 322.0|   126.0|8.3252|    6.98|    2.56|      0.15|\n",
      "|3.585|  1106.0|2401.0|  1138.0|8.3014|    6.24|    2.11|      0.16|\n",
      "|3.521|   190.0| 496.0|   177.0|7.2574|    8.29|     2.8|      0.13|\n",
      "|3.413|   235.0| 558.0|   219.0|5.6431|    5.82|    2.55|      0.18|\n",
      "+-----+--------+------+--------+------+--------+--------+----------+\n",
      "only showing top 5 rows\n",
      "\n"
     ]
    }
   ],
   "source": [
    "#### TODO: Re-order and select columns\n",
    "housing_df.select(\n",
    "    \"medhv\", \n",
    "    \"totbdrms\", \n",
    "    \"pop\", \n",
    "    \"houshlds\", \n",
    "    \"medinc\", \n",
    "    \"rmsperhh\", \n",
    "    \"popperhh\", \n",
    "    \"bdrmsperrm\"\n",
    ").show(5)"
   ]
  },
  {
   "cell_type": "markdown",
   "id": "bcdd1f38",
   "metadata": {},
   "source": [
    "### 6.1 Feature Extraction\n",
    "\n",
    "Now that we have re-ordered the data, we're ready to normalize the data. Choose the features to be normalized."
   ]
  },
  {
   "cell_type": "code",
   "execution_count": 30,
   "id": "7c93d5b9",
   "metadata": {},
   "outputs": [],
   "source": [
    "featureCols = [\"totbdrms\", \"pop\", \"houshlds\", \"medinc\", \"rmsperhh\", \"popperhh\", \"bdrmsperrm\"]"
   ]
  },
  {
   "cell_type": "markdown",
   "id": "1889966a",
   "metadata": {},
   "source": [
    "Use a VectorAssembler to put features into a feature vector column.\n",
    "\n",
    "https://spark.apache.org/docs/3.1.3/api/python/reference/api/pyspark.ml.feature.VectorAssembler.html"
   ]
  },
  {
   "cell_type": "markdown",
   "id": "9171790e-3d78-4ecf-972f-731689b2da75",
   "metadata": {},
   "source": [
    "#### TODO: Remove any nulls from housing_df"
   ]
  },
  {
   "cell_type": "code",
   "execution_count": 31,
   "id": "84459fe4-e474-438e-bcf2-b346300b20a4",
   "metadata": {},
   "outputs": [],
   "source": [
    "housing_df = housing_df.dropna(how=\"any\") # Provided?\n"
   ]
  },
  {
   "cell_type": "code",
   "execution_count": 32,
   "id": "cabc8b5e",
   "metadata": {},
   "outputs": [],
   "source": [
    "# put features into a feature vector column\n",
    "assembler = VectorAssembler(inputCols=featureCols, outputCol=\"features\") "
   ]
  },
  {
   "cell_type": "code",
   "execution_count": 33,
   "id": "3fe41596",
   "metadata": {},
   "outputs": [],
   "source": [
    "assembled_df = assembler.transform(housing_df)"
   ]
  },
  {
   "cell_type": "code",
   "execution_count": 34,
   "id": "87924616",
   "metadata": {},
   "outputs": [
    {
     "name": "stdout",
     "output_type": "stream",
     "text": [
      "+-------+-----+------+--------+--------+------+--------+------+-----+--------+--------+----------+-------------------------------------------------------+\n",
      "|long   |lat  |medage|totrooms|totbdrms|pop   |houshlds|medinc|medhv|rmsperhh|popperhh|bdrmsperrm|features                                               |\n",
      "+-------+-----+------+--------+--------+------+--------+------+-----+--------+--------+----------+-------------------------------------------------------+\n",
      "|-122.23|37.88|41.0  |880.0   |129.0   |322.0 |126.0   |8.3252|4.526|6.98    |2.56    |0.15      |[129.0,322.0,126.0,8.325200080871582,6.98,2.56,0.15]   |\n",
      "|-122.22|37.86|21.0  |7099.0  |1106.0  |2401.0|1138.0  |8.3014|3.585|6.24    |2.11    |0.16      |[1106.0,2401.0,1138.0,8.301400184631348,6.24,2.11,0.16]|\n",
      "|-122.24|37.85|52.0  |1467.0  |190.0   |496.0 |177.0   |7.2574|3.521|8.29    |2.8     |0.13      |[190.0,496.0,177.0,7.257400035858154,8.29,2.8,0.13]    |\n",
      "|-122.25|37.85|52.0  |1274.0  |235.0   |558.0 |219.0   |5.6431|3.413|5.82    |2.55    |0.18      |[235.0,558.0,219.0,5.643099784851074,5.82,2.55,0.18]   |\n",
      "|-122.25|37.85|52.0  |1627.0  |280.0   |565.0 |259.0   |3.8462|3.422|6.28    |2.18    |0.17      |[280.0,565.0,259.0,3.8461999893188477,6.28,2.18,0.17]  |\n",
      "|-122.25|37.85|52.0  |919.0   |213.0   |413.0 |193.0   |4.0368|2.697|4.76    |2.14    |0.23      |[213.0,413.0,193.0,4.036799907684326,4.76,2.14,0.23]   |\n",
      "|-122.25|37.84|52.0  |2535.0  |489.0   |1094.0|514.0   |3.6591|2.992|4.93    |2.13    |0.19      |[489.0,1094.0,514.0,3.65910005569458,4.93,2.13,0.19]   |\n",
      "|-122.25|37.84|52.0  |3104.0  |687.0   |1157.0|647.0   |3.12  |2.414|4.8     |1.79    |0.22      |[687.0,1157.0,647.0,3.119999885559082,4.8,1.79,0.22]   |\n",
      "|-122.26|37.84|42.0  |2555.0  |665.0   |1206.0|595.0   |2.0804|2.267|4.29    |2.03    |0.26      |[665.0,1206.0,595.0,2.080399990081787,4.29,2.03,0.26]  |\n",
      "|-122.25|37.84|52.0  |3549.0  |707.0   |1551.0|714.0   |3.6912|2.611|4.97    |2.17    |0.2       |[707.0,1551.0,714.0,3.691200017929077,4.97,2.17,0.2]   |\n",
      "+-------+-----+------+--------+--------+------+--------+------+-----+--------+--------+----------+-------------------------------------------------------+\n",
      "only showing top 10 rows\n",
      "\n"
     ]
    }
   ],
   "source": [
    "assembled_df.show(10, truncate=False)"
   ]
  },
  {
   "cell_type": "markdown",
   "id": "3c936cd3",
   "metadata": {},
   "source": [
    "All of the features should have been transformed into a Dense Vector. Notice the features column above."
   ]
  },
  {
   "cell_type": "markdown",
   "id": "7634dadf",
   "metadata": {},
   "source": [
    "### 6.2 Standardization\n",
    "\n",
    "We can now scale the data using `StandardScaler`. The input columns are the `features`, and the output column are rescaled features that we will be include in the `scaled_df` named `\"features_scaled\"`:"
   ]
  },
  {
   "cell_type": "code",
   "execution_count": 35,
   "id": "62e4f194",
   "metadata": {},
   "outputs": [],
   "source": [
    "# Initialize the `standardScaler`\n",
    "standardScaler = StandardScaler(inputCol=\"features\", outputCol=\"features_scaled\")"
   ]
  },
  {
   "cell_type": "code",
   "execution_count": 36,
   "id": "aaacc2f0",
   "metadata": {},
   "outputs": [],
   "source": [
    "# Fit the DataFrame to the scaler\n",
    "scaled_df = standardScaler.fit(assembled_df).transform(assembled_df)"
   ]
  },
  {
   "cell_type": "code",
   "execution_count": 37,
   "id": "17f49272",
   "metadata": {},
   "outputs": [
    {
     "name": "stdout",
     "output_type": "stream",
     "text": [
      "+-------------------------------------------------------+--------------------------------------------------------------------------------------------------------------------------------------+\n",
      "|features                                               |features_scaled                                                                                                                       |\n",
      "+-------------------------------------------------------+--------------------------------------------------------------------------------------------------------------------------------------+\n",
      "|[129.0,322.0,126.0,8.325200080871582,6.98,2.56,0.15]   |[0.306133295081709,0.2841489478008318,0.329584763633844,4.383319347393149,2.8111579992311904,0.245252327599291,2.584777863821999]     |\n",
      "|[1106.0,2401.0,1138.0,8.301400184631348,6.24,2.11,0.16]|[2.6246777082199237,2.1187628064279416,2.976725881073924,4.370788411842967,2.5131269219488006,0.20214156688847812,2.7570963880767994] |\n",
      "|[190.0,496.0,177.0,7.257400035858154,8.29,2.8,0.13]    |[0.4508940005079435,0.43769527363109495,0.4629881203427808,3.821109604565608,3.3387535549608263,0.2682447333117245,2.2401408153123996]|\n",
      "|[235.0,558.0,219.0,5.643099784851074,5.82,2.55,0.18]   |[0.5576846848387722,0.4924071828349818,0.5728497082207288,2.971160840090971,2.343974148356093,0.24429431069460625,3.1017334365863993] |\n",
      "|[280.0,565.0,259.0,3.8461999893188477,6.28,2.18,0.17]  |[0.6644753691696009,0.4985843338741303,0.6774797919140126,2.025071189083015,2.529236709910011,0.20884768522127126,2.9294149123315996] |\n",
      "|[213.0,413.0,193.0,4.036799907684326,4.76,2.14,0.23]   |[0.5054759058325893,0.3644519113097625,0.5048401538200943,2.125424369987646,1.9170647673840209,0.20501561760253234,3.9633260578603995]|\n",
      "|[489.0,1094.0,514.0,3.65910005569458,4.93,2.13,0.19]   |[1.1604587697283388,0.9654004624040683,1.3444965754586968,1.9265607928181163,1.9855313662191645,0.2040576006978476,3.274051960841199] |\n",
      "|[687.0,1157.0,647.0,3.119999885559082,4.8,1.79,0.22]   |[1.6303377807839852,1.0209948217564049,1.6923916037388653,1.6427179802751084,1.933174555345231,0.17148502593856677,3.7910075336055993]|\n",
      "|[665.0,1206.0,595.0,2.080399990081787,4.29,2.03,0.26]  |[1.5781290017778022,1.0642348790304446,1.5563724949375966,1.095355960008029,1.7277747588398005,0.19447743165100026,4.480281630624799] |\n",
      "|[707.0,1551.0,714.0,3.691200017929077,4.97,2.17,0.2]   |[1.6778003071532424,1.3686801802456214,1.8676469939251157,1.9434618143126448,2.001641154180375,0.2078896683165865,3.4463704850959993] |\n",
      "+-------------------------------------------------------+--------------------------------------------------------------------------------------------------------------------------------------+\n",
      "only showing top 10 rows\n",
      "\n"
     ]
    }
   ],
   "source": [
    "# Inspect the result\n",
    "scaled_df.select(\"features\", \"features_scaled\").show(10, truncate=False)"
   ]
  },
  {
   "cell_type": "markdown",
   "id": "352548fd",
   "metadata": {},
   "source": [
    "### 7. Building A Machine Learning Model With Spark ML\n",
    "\n",
    "With preprocessing done, we can finally build the Linear Regression model. \n",
    "\n",
    "First, split the data into training and test sets using `randomSplit()`:\n",
    "\n",
    "Pass in a list with two numbers that represent the size that we want your training and test sets to have and a seed, which is needed for reproducibility reasons.\n",
    "\n",
    "https://spark.apache.org/docs/3.1.3/api/python/reference/api/pyspark.sql.DataFrame.randomSplit.html"
   ]
  },
  {
   "cell_type": "code",
   "execution_count": 38,
   "id": "659315f8",
   "metadata": {},
   "outputs": [],
   "source": [
    "# Split the data into train and test sets\n",
    "train_data, test_data = scaled_df.randomSplit([.8,.2], seed=rnd_seed)"
   ]
  },
  {
   "cell_type": "code",
   "execution_count": 39,
   "id": "80282d52",
   "metadata": {},
   "outputs": [
    {
     "data": {
      "text/plain": [
       "['long',\n",
       " 'lat',\n",
       " 'medage',\n",
       " 'totrooms',\n",
       " 'totbdrms',\n",
       " 'pop',\n",
       " 'houshlds',\n",
       " 'medinc',\n",
       " 'medhv',\n",
       " 'rmsperhh',\n",
       " 'popperhh',\n",
       " 'bdrmsperrm',\n",
       " 'features',\n",
       " 'features_scaled']"
      ]
     },
     "execution_count": 39,
     "metadata": {},
     "output_type": "execute_result"
    }
   ],
   "source": [
    "train_data.columns"
   ]
  },
  {
   "cell_type": "markdown",
   "id": "52507ec7",
   "metadata": {},
   "source": [
    "**Create an ElasticNet model:**\n",
    "\n",
    "`ElasticNet` is a linear regression model trained with `L1` and `L2` prior as a regularizer. This combination allows for learning a sparse model where few of the weights are non-zero like `Lasso`, while still maintaining the regularization properties of `Ridge` regression. We can control the convex combination of `L1` and `L2` using the `l1_ratio parameter`.\n",
    "\n",
    "Elastic-net is useful when there are multiple features which are correlated with one another. Lasso is likely to pick one of these at random, while elastic-net is likely to pick both.\n",
    "\n",
    "A practical advantage of trading-off between Lasso and Ridge is it allows Elastic-Net to inherit some of Ridge’s stability under rotation.\n",
    "\n",
    "The objective function to minimize is in this case:\n",
    "\\begin{align}\n",
    "min_w\\frac{1}{2n_{samples}}{\\parallel{X_w - y}\\parallel}^2_2 + \\alpha\\lambda{\\parallel{X_w - y}\\parallel}_1 + \\frac{\\alpha(1-\\lambda)}{2}{\\parallel{w}\\parallel}^2_2\n",
    "\\end{align}\n",
    "\n",
    "http://scikit-learn.org/stable/modules/linear_model.html#elastic-net"
   ]
  },
  {
   "cell_type": "code",
   "execution_count": 40,
   "id": "79cffdb3",
   "metadata": {},
   "outputs": [],
   "source": [
    "# Initialize `lr`\n",
    "lr = (LinearRegression(featuresCol='features_scaled', labelCol=\"medhv\", predictionCol='predmedhv', \n",
    "                               maxIter=10, regParam=0.3, elasticNetParam=0.8, standardization=False))"
   ]
  },
  {
   "cell_type": "code",
   "execution_count": 41,
   "id": "2caf98b8",
   "metadata": {},
   "outputs": [],
   "source": [
    "# Fit the data to the model\n",
    "linearModel = lr.fit(train_data)"
   ]
  },
  {
   "cell_type": "markdown",
   "id": "57c40078",
   "metadata": {},
   "source": [
    "## 8. Evaluating the Model\n",
    "\n",
    "With our model in place, we can generate predictions for our test data. \n",
    "\n",
    "We can use the `transform()` method to predict the labels for the `test_data`. Then, we can use RDD operations to extract the predictions as well as the true labels from the DataFrame."
   ]
  },
  {
   "cell_type": "code",
   "execution_count": 42,
   "id": "0d66e6ad",
   "metadata": {},
   "outputs": [
    {
     "data": {
      "text/plain": [
       "DenseVector([0.0, 0.0, 0.0, 0.5284, 0.0, 0.0, 0.0])"
      ]
     },
     "execution_count": 42,
     "metadata": {},
     "output_type": "execute_result"
    }
   ],
   "source": [
    "# Coefficients for the model\n",
    "linearModel.coefficients"
   ]
  },
  {
   "cell_type": "code",
   "execution_count": 43,
   "id": "a48e6378",
   "metadata": {},
   "outputs": [
    {
     "data": {
      "text/plain": [
       "['totbdrms', 'pop', 'houshlds', 'medinc', 'rmsperhh', 'popperhh', 'bdrmsperrm']"
      ]
     },
     "execution_count": 43,
     "metadata": {},
     "output_type": "execute_result"
    }
   ],
   "source": [
    "featureCols"
   ]
  },
  {
   "cell_type": "code",
   "execution_count": 44,
   "id": "dc872e66",
   "metadata": {},
   "outputs": [
    {
     "data": {
      "text/plain": [
       "0.9898807052887281"
      ]
     },
     "execution_count": 44,
     "metadata": {},
     "output_type": "execute_result"
    }
   ],
   "source": [
    "# Intercept for the model\n",
    "linearModel.intercept"
   ]
  },
  {
   "cell_type": "code",
   "execution_count": 45,
   "id": "535dcafa",
   "metadata": {},
   "outputs": [],
   "source": [
    "coeff_df = pd.DataFrame({\"Feature\": [\"Intercept\"] + featureCols, \"Co-efficients\": np.insert(linearModel.coefficients.toArray(), 0, linearModel.intercept)})\n",
    "coeff_df = coeff_df[[\"Feature\", \"Co-efficients\"]]"
   ]
  },
  {
   "cell_type": "code",
   "execution_count": 46,
   "id": "94d6669b",
   "metadata": {},
   "outputs": [
    {
     "data": {
      "text/html": [
       "<div>\n",
       "<style scoped>\n",
       "    .dataframe tbody tr th:only-of-type {\n",
       "        vertical-align: middle;\n",
       "    }\n",
       "\n",
       "    .dataframe tbody tr th {\n",
       "        vertical-align: top;\n",
       "    }\n",
       "\n",
       "    .dataframe thead th {\n",
       "        text-align: right;\n",
       "    }\n",
       "</style>\n",
       "<table border=\"1\" class=\"dataframe\">\n",
       "  <thead>\n",
       "    <tr style=\"text-align: right;\">\n",
       "      <th></th>\n",
       "      <th>Feature</th>\n",
       "      <th>Co-efficients</th>\n",
       "    </tr>\n",
       "  </thead>\n",
       "  <tbody>\n",
       "    <tr>\n",
       "      <th>0</th>\n",
       "      <td>Intercept</td>\n",
       "      <td>0.989881</td>\n",
       "    </tr>\n",
       "    <tr>\n",
       "      <th>1</th>\n",
       "      <td>totbdrms</td>\n",
       "      <td>0.000000</td>\n",
       "    </tr>\n",
       "    <tr>\n",
       "      <th>2</th>\n",
       "      <td>pop</td>\n",
       "      <td>0.000000</td>\n",
       "    </tr>\n",
       "    <tr>\n",
       "      <th>3</th>\n",
       "      <td>houshlds</td>\n",
       "      <td>0.000000</td>\n",
       "    </tr>\n",
       "    <tr>\n",
       "      <th>4</th>\n",
       "      <td>medinc</td>\n",
       "      <td>0.528390</td>\n",
       "    </tr>\n",
       "    <tr>\n",
       "      <th>5</th>\n",
       "      <td>rmsperhh</td>\n",
       "      <td>0.000000</td>\n",
       "    </tr>\n",
       "    <tr>\n",
       "      <th>6</th>\n",
       "      <td>popperhh</td>\n",
       "      <td>0.000000</td>\n",
       "    </tr>\n",
       "    <tr>\n",
       "      <th>7</th>\n",
       "      <td>bdrmsperrm</td>\n",
       "      <td>0.000000</td>\n",
       "    </tr>\n",
       "  </tbody>\n",
       "</table>\n",
       "</div>"
      ],
      "text/plain": [
       "      Feature  Co-efficients\n",
       "0   Intercept       0.989881\n",
       "1    totbdrms       0.000000\n",
       "2         pop       0.000000\n",
       "3    houshlds       0.000000\n",
       "4      medinc       0.528390\n",
       "5    rmsperhh       0.000000\n",
       "6    popperhh       0.000000\n",
       "7  bdrmsperrm       0.000000"
      ]
     },
     "execution_count": 46,
     "metadata": {},
     "output_type": "execute_result"
    }
   ],
   "source": [
    "coeff_df"
   ]
  },
  {
   "cell_type": "markdown",
   "id": "0690ecd6",
   "metadata": {},
   "source": [
    "**TODO:**\n",
    "\n",
    "Inspect the coefficients. Which independent variable is most predictive?\n",
    "\n",
    "Come up with a working hypothesis for why you think this is true.\n",
    "\n",
    "***The medinc, or Median Income, is the most predictive feature of the dataset when trying to predict Median House Value (medhv). Although it is the only feature that has a non 0 value. \n",
    "Hypothesis: As median income increases, so does median house value. I believe this makes logical sense, if you have more money, you have the ability to buy more expensive housing."
   ]
  },
  {
   "cell_type": "markdown",
   "id": "2443d453",
   "metadata": {},
   "source": [
    "### 8.2 Generating Predictions"
   ]
  },
  {
   "cell_type": "code",
   "execution_count": 47,
   "id": "bfffc2b0",
   "metadata": {},
   "outputs": [],
   "source": [
    "# Generate predictions\n",
    "predictions = linearModel.transform(test_data)"
   ]
  },
  {
   "cell_type": "code",
   "execution_count": 48,
   "id": "91f4c424",
   "metadata": {},
   "outputs": [],
   "source": [
    "# Extract the predictions and the \"known\" correct labels\n",
    "predandlabels = predictions.select(\"predmedhv\", \"medhv\")"
   ]
  },
  {
   "cell_type": "code",
   "execution_count": 49,
   "id": "cb5f6b18",
   "metadata": {},
   "outputs": [
    {
     "name": "stdout",
     "output_type": "stream",
     "text": [
      "+------------------+-----+\n",
      "|         predmedhv|medhv|\n",
      "+------------------+-----+\n",
      "|1.8285809235648975|0.946|\n",
      "|1.9208054145790476|0.508|\n",
      "|1.6799646012857237|0.732|\n",
      "|1.5483465174863515|0.669|\n",
      "|1.7955025711645023|0.864|\n",
      "| 1.608243764502683|0.813|\n",
      "|1.4452720785494906|0.683|\n",
      "|1.7977281708942865| 0.82|\n",
      "|1.6969906315723675|0.854|\n",
      "|1.4713954152120865|0.805|\n",
      "|1.5723833129467155|0.796|\n",
      "|1.4767369142595739|0.675|\n",
      "|1.5958080253676075|0.768|\n",
      "|1.9418654355781553|0.928|\n",
      "|1.9867675104030489|0.928|\n",
      "| 1.813363217932039|0.817|\n",
      "|1.6118603474813589|0.723|\n",
      "|1.5645657894278393|0.811|\n",
      "| 1.518272698189607|0.784|\n",
      "| 1.656094755653096|0.705|\n",
      "+------------------+-----+\n",
      "only showing top 20 rows\n",
      "\n"
     ]
    }
   ],
   "source": [
    "predandlabels.show()"
   ]
  },
  {
   "cell_type": "markdown",
   "id": "58a1fb8d",
   "metadata": {},
   "source": [
    "### 8.3 Inspect the Metrics\n",
    "\n",
    "We need to calculate some metrics to get a better idea of how good your model actually is.\n",
    "\n",
    "**TODO**: Use the `LinearRegressionModel.summary` attribute:** to calculate RMSE, MAE, and R2."
   ]
  },
  {
   "cell_type": "code",
   "execution_count": 50,
   "id": "a10cbd9c",
   "metadata": {},
   "outputs": [
    {
     "name": "stdout",
     "output_type": "stream",
     "text": [
      "RMSE: 0.8752483829033595\n"
     ]
    }
   ],
   "source": [
    "# Get the RMSE\n",
    "rmse = linearModel.summary.rootMeanSquaredError\n",
    "print(\"RMSE: {0}\".format(rmse))"
   ]
  },
  {
   "cell_type": "code",
   "execution_count": 51,
   "id": "d9f6a4c0",
   "metadata": {},
   "outputs": [
    {
     "name": "stdout",
     "output_type": "stream",
     "text": [
      "MAE: 0.6725962326668492\n"
     ]
    }
   ],
   "source": [
    "mae = linearModel.summary.meanAbsoluteError\n",
    "print(\"MAE: {0}\".format(mae))"
   ]
  },
  {
   "cell_type": "code",
   "execution_count": 52,
   "id": "338b7499",
   "metadata": {},
   "outputs": [
    {
     "name": "stdout",
     "output_type": "stream",
     "text": [
      "R2: 0.4235471838636151\n"
     ]
    }
   ],
   "source": [
    "# Get the R2\n",
    "r2 = linearModel.summary.r2\n",
    "print(\"R2: {0}\".format(r2))"
   ]
  },
  {
   "cell_type": "markdown",
   "id": "34c49eab",
   "metadata": {},
   "source": [
    "Not a great R2 score. It indicates that your model explains approximately 42.35% of the variance in the median housing value. "
   ]
  },
  {
   "cell_type": "markdown",
   "id": "69f8e8a3",
   "metadata": {},
   "source": [
    "## 9.0 Try to improve the model\n",
    "\n",
    "**TODO** Try to improve the model based on RMSE, MAE, or R2 using any means. \n",
    "\n",
    "For example, additional feature engineering such as adding back in the longitude, latitude, housingMedianAge and totalRooms; trying different alpha and lambda elastic regression coefficients (http://scikit-learn.org/stable/modules/linear_model.html#elastic-net), or using a different machine learning model (https://spark.apache.org/docs/2.3.0/api/python/pyspark.ml.html).\n",
    "\n",
    "Great work on this will be rewarded with extra credit.\n"
   ]
  },
  {
   "cell_type": "code",
   "execution_count": 53,
   "id": "7cf99fb1",
   "metadata": {},
   "outputs": [],
   "source": [
    "train_df, test_df = scaled_df.randomSplit([0.8, 0.2], seed=123)\n",
    "\n",
    "# LinearRegression with ElasticNet\n",
    "lr = LinearRegression(featuresCol=\"features_scaled\", labelCol=\"medhv\", predictionCol=\"pred_medhv\", maxIter=10)\n",
    "\n",
    "# Hyperparameter tuning for ElasticNet\n",
    "paramGrid = (ParamGridBuilder()\n",
    "             .addGrid(lr.regParam, [0.1, 0.3, 0.5])  # Regularization parameters\n",
    "             .addGrid(lr.elasticNetParam, [0.0, 0.5, 1.0])  # L1 (Lasso) vs L2 (Ridge) regularization\n",
    "             .build())\n",
    "\n",
    "# 5. Cross-Validation\n",
    "evaluator = RegressionEvaluator(labelCol=\"medhv\", predictionCol=\"pred_medhv\", metricName=\"rmse\")\n",
    "crossval = CrossValidator(estimator=lr, estimatorParamMaps=paramGrid, evaluator=evaluator, numFolds=5)\n",
    "\n",
    "# Train the model\n",
    "cv_model = crossval.fit(train_df)\n",
    "\n",
    "# 6. Make Predictions\n",
    "predictions = cv_model.transform(test_df)\n"
   ]
  },
  {
   "cell_type": "code",
   "execution_count": 54,
   "id": "9add08ce",
   "metadata": {},
   "outputs": [],
   "source": [
    "best_model = cv_model.bestModel\n",
    "\n",
    "coeff_df = pd.DataFrame({\"Feature\": [\"Intercept\"] + featureCols, \"Co-efficients\": np.insert(best_model.coefficients.toArray(), 0, best_model.intercept)})\n",
    "coeff_df = coeff_df[[\"Feature\", \"Co-efficients\"]]"
   ]
  },
  {
   "cell_type": "code",
   "execution_count": 56,
   "id": "f36d0735",
   "metadata": {},
   "outputs": [
    {
     "data": {
      "text/html": [
       "<div>\n",
       "<style scoped>\n",
       "    .dataframe tbody tr th:only-of-type {\n",
       "        vertical-align: middle;\n",
       "    }\n",
       "\n",
       "    .dataframe tbody tr th {\n",
       "        vertical-align: top;\n",
       "    }\n",
       "\n",
       "    .dataframe thead th {\n",
       "        text-align: right;\n",
       "    }\n",
       "</style>\n",
       "<table border=\"1\" class=\"dataframe\">\n",
       "  <thead>\n",
       "    <tr style=\"text-align: right;\">\n",
       "      <th></th>\n",
       "      <th>Feature</th>\n",
       "      <th>Co-efficients</th>\n",
       "    </tr>\n",
       "  </thead>\n",
       "  <tbody>\n",
       "    <tr>\n",
       "      <th>0</th>\n",
       "      <td>Intercept</td>\n",
       "      <td>-0.323168</td>\n",
       "    </tr>\n",
       "    <tr>\n",
       "      <th>1</th>\n",
       "      <td>totbdrms</td>\n",
       "      <td>0.087535</td>\n",
       "    </tr>\n",
       "    <tr>\n",
       "      <th>2</th>\n",
       "      <td>pop</td>\n",
       "      <td>-0.256672</td>\n",
       "    </tr>\n",
       "    <tr>\n",
       "      <th>3</th>\n",
       "      <td>houshlds</td>\n",
       "      <td>0.182191</td>\n",
       "    </tr>\n",
       "    <tr>\n",
       "      <th>4</th>\n",
       "      <td>medinc</td>\n",
       "      <td>0.842149</td>\n",
       "    </tr>\n",
       "    <tr>\n",
       "      <th>5</th>\n",
       "      <td>rmsperhh</td>\n",
       "      <td>-0.016456</td>\n",
       "    </tr>\n",
       "    <tr>\n",
       "      <th>6</th>\n",
       "      <td>popperhh</td>\n",
       "      <td>-0.014672</td>\n",
       "    </tr>\n",
       "    <tr>\n",
       "      <th>7</th>\n",
       "      <td>bdrmsperrm</td>\n",
       "      <td>0.187684</td>\n",
       "    </tr>\n",
       "  </tbody>\n",
       "</table>\n",
       "</div>"
      ],
      "text/plain": [
       "      Feature  Co-efficients\n",
       "0   Intercept      -0.323168\n",
       "1    totbdrms       0.087535\n",
       "2         pop      -0.256672\n",
       "3    houshlds       0.182191\n",
       "4      medinc       0.842149\n",
       "5    rmsperhh      -0.016456\n",
       "6    popperhh      -0.014672\n",
       "7  bdrmsperrm       0.187684"
      ]
     },
     "execution_count": 56,
     "metadata": {},
     "output_type": "execute_result"
    }
   ],
   "source": [
    "coeff_df"
   ]
  },
  {
   "cell_type": "code",
   "execution_count": null,
   "id": "72d60f2a",
   "metadata": {},
   "outputs": [
    {
     "name": "stdout",
     "output_type": "stream",
     "text": [
      "RMSE: 0.7818579046349504\n",
      "MAE: 0.5825049215787653\n",
      "R2: 0.5297272688332142\n",
      "+-----+------------------+\n",
      "|medhv|        pred_medhv|\n",
      "+-----+------------------+\n",
      "|1.036|1.6708545682520524|\n",
      "|1.067|1.5883088234687552|\n",
      "|0.684|1.4773910372035746|\n",
      "|0.901| 1.840429142551363|\n",
      "|0.722|1.4446337885561484|\n",
      "|0.864|1.5698497456637261|\n",
      "|0.705|1.2585687203561546|\n",
      "|  0.6|1.7264661881469214|\n",
      "|1.059|1.4430266745154456|\n",
      "|1.094|1.9009066999316615|\n",
      "|0.851|1.4625939140855708|\n",
      "|0.818|1.9622347769728905|\n",
      "|0.906| 1.329085571943818|\n",
      "|0.755|1.3775093115674026|\n",
      "|0.741|1.2187289793433476|\n",
      "|0.768|1.3071245760007235|\n",
      "|0.741|1.3205626807831061|\n",
      "|0.736|1.8647382895079305|\n",
      "|1.118|2.0518183571815394|\n",
      "|0.741|1.2207649648816237|\n",
      "+-----+------------------+\n",
      "only showing top 20 rows\n",
      "\n"
     ]
    }
   ],
   "source": [
    "# 7. Evaluate Model Performance\n",
    "rmse = evaluator.evaluate(predictions)\n",
    "mae = RegressionEvaluator(labelCol=\"medhv\", predictionCol=\"pred_medhv\", metricName=\"mae\").evaluate(predictions)\n",
    "r2 = evaluator.evaluate(predictions, {evaluator.metricName: \"r2\"})\n",
    "\n",
    "print(f\"RMSE: {rmse}\")\n",
    "print(f\"MAE: {mae}\")\n",
    "print(f\"R2: {r2}\")\n",
    "\n",
    "predictions.select(\"medhv\", \"pred_medhv\").show()"
   ]
  },
  {
   "cell_type": "markdown",
   "id": "76330faa",
   "metadata": {},
   "source": [
    "- It has a lower RMSE, indicating better overall prediction accuracy.\n",
    "- It has a lower MAE, meaning its predictions are closer to the actual values.\n",
    "- It has a higher R², meaning it explains more of the variance in the target variable (medhv)."
   ]
  },
  {
   "cell_type": "markdown",
   "id": "f4ca34ef",
   "metadata": {},
   "source": []
  }
 ],
 "metadata": {
  "kernelspec": {
   "display_name": "pyspark",
   "language": "python",
   "name": "python3"
  },
  "language_info": {
   "codemirror_mode": {
    "name": "ipython",
    "version": 3
   },
   "file_extension": ".py",
   "mimetype": "text/x-python",
   "name": "python",
   "nbconvert_exporter": "python",
   "pygments_lexer": "ipython3",
   "version": "3.7.16"
  }
 },
 "nbformat": 4,
 "nbformat_minor": 5
}
